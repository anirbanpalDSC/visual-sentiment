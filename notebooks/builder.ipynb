{
 "cells": [
  {
   "cell_type": "code",
   "execution_count": null,
   "id": "7d669eef",
   "metadata": {},
   "outputs": [],
   "source": [
    "import cv2\n",
    "import os"
   ]
  },
  {
   "cell_type": "code",
   "execution_count": null,
   "id": "a4a8c48a",
   "metadata": {},
   "outputs": [],
   "source": [
    "def get_video_info(video_path: str) -> dict:\n",
    "    cap = cv2.VideoCapture(video_path)\n",
    "    if not cap.isOpened():\n",
    "        return {\"error\": \"Cannot open video file\"}\n",
    "    \n",
    "    fps = cap.get(cv2.CAP_PROP_FPS)\n",
    "    total_frames = int(cap.get(cv2.CAP_PROP_FRAME_COUNT))\n",
    "    duration = total_frames / fps if fps > 0 else 0\n",
    "    \n",
    "    cap.release()\n",
    "    \n",
    "    return {\n",
    "        \"fps\": fps,\n",
    "        \"total_frames\": total_frames,\n",
    "        \"duration_seconds\": duration,\n",
    "        \"duration_hms\": f\"{int(duration // 3600):02}:{int((duration % 3600) // 60):02}:{int(duration % 60):02}\"\n",
    "    }\n",
    "\n",
    "def extract_frames(video_path, output_folder, frames_to_extract):\n",
    "    os.makedirs(output_folder, exist_ok=True)\n",
    "    \n",
    "    # Load the video\n",
    "    cap = cv2.VideoCapture(video_path)\n",
    "    \n",
    "    frame_count = 0\n",
    "    extracted_count = 0\n",
    "    base_name = os.path.splitext(os.path.basename(video_path))[0]\n",
    "    \n",
    "    while True:\n",
    "        ret, frame = cap.read()\n",
    "        if not ret:\n",
    "            break\n",
    "        \n",
    "        frame_count += 1\n",
    "        \n",
    "        # Check if this frame is one we want to extract\n",
    "        if frame_count % frames_to_extract == 0:\n",
    "            extracted_count += 1\n",
    "            frame_filename = f\"{base_name}_{extracted_count}.jpg\"\n",
    "            frame_path = os.path.join(output_folder, frame_filename)\n",
    "            cv2.imwrite(frame_path, frame)\n",
    "    \n",
    "    cap.release()\n",
    "    print(f\"Extracted {extracted_count} frames and saved to {output_folder}\")\n"
   ]
  },
  {
   "cell_type": "code",
   "execution_count": 7,
   "id": "4f77bd60",
   "metadata": {},
   "outputs": [
    {
     "name": "stdout",
     "output_type": "stream",
     "text": [
      "Extracted 74 frames and saved to ../sample/frames_output\n"
     ]
    }
   ],
   "source": [
    "# Example usage\n",
    "video_path = '../sample/video_input/Do you notice these signs in your toddler.mp4'\n",
    "output_folder = '../sample/frames_output'\n",
    "frames_to_extract = 10  # For every frame, use 1; for every second frame, use 2, etc.\n",
    "\n",
    "extract_frames(video_path, output_folder, frames_to_extract)"
   ]
  }
 ],
 "metadata": {
  "kernelspec": {
   "display_name": "py311",
   "language": "python",
   "name": "python3"
  },
  "language_info": {
   "codemirror_mode": {
    "name": "ipython",
    "version": 3
   },
   "file_extension": ".py",
   "mimetype": "text/x-python",
   "name": "python",
   "nbconvert_exporter": "python",
   "pygments_lexer": "ipython3",
   "version": "3.11.13"
  }
 },
 "nbformat": 4,
 "nbformat_minor": 5
}
