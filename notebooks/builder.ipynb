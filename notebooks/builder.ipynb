{
 "cells": [
  {
   "cell_type": "code",
   "execution_count": 1,
   "id": "a4a8c48a",
   "metadata": {},
   "outputs": [],
   "source": [
    "import cv2\n",
    "import os\n",
    "\n",
    "def extract_frames(video_path, output_folder, frames_to_extract):\n",
    "    os.makedirs(output_folder, exist_ok=True)\n",
    "    \n",
    "    # Load the video\n",
    "    cap = cv2.VideoCapture(video_path)\n",
    "    \n",
    "    frame_count = 0\n",
    "    extracted_count = 0\n",
    "    base_name = os.path.splitext(os.path.basename(video_path))[0]\n",
    "    \n",
    "    while True:\n",
    "        ret, frame = cap.read()\n",
    "        if not ret:\n",
    "            break\n",
    "        \n",
    "        frame_count += 1\n",
    "        \n",
    "        # Check if this frame is one we want to extract\n",
    "        if frame_count % frames_to_extract == 0:\n",
    "            extracted_count += 1\n",
    "            frame_filename = f\"{base_name}_{extracted_count}.jpg\"\n",
    "            frame_path = os.path.join(output_folder, frame_filename)\n",
    "            cv2.imwrite(frame_path, frame)\n",
    "    \n",
    "    cap.release()\n",
    "    print(f\"Extracted {extracted_count} frames and saved to {output_folder}\")\n"
   ]
  },
  {
   "cell_type": "code",
   "execution_count": 5,
   "id": "4f77bd60",
   "metadata": {},
   "outputs": [
    {
     "name": "stdout",
     "output_type": "stream",
     "text": [
      "Extracted 286 frames and saved to ../sample/frames_output\n"
     ]
    }
   ],
   "source": [
    "# Example usage\n",
    "video_path = '../sample/The 7 basic emotions - Do you recognise all facial expressions.mp4'\n",
    "output_folder = '../sample/frames_output'\n",
    "frames_to_extract = 10  # For every frame, use 1; for every second frame, use 2, etc.\n",
    "\n",
    "extract_frames(video_path, output_folder, frames_to_extract)"
   ]
  }
 ],
 "metadata": {
  "kernelspec": {
   "display_name": "py311",
   "language": "python",
   "name": "python3"
  },
  "language_info": {
   "codemirror_mode": {
    "name": "ipython",
    "version": 3
   },
   "file_extension": ".py",
   "mimetype": "text/x-python",
   "name": "python",
   "nbconvert_exporter": "python",
   "pygments_lexer": "ipython3",
   "version": "3.11.13"
  }
 },
 "nbformat": 4,
 "nbformat_minor": 5
}
